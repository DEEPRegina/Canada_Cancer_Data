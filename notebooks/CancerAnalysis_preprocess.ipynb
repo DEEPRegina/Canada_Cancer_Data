{
 "cells": [
  {
   "cell_type": "code",
   "execution_count": 1,
   "metadata": {},
   "outputs": [],
   "source": [
    "import pandas as pd\n",
    "import numpy as np"
   ]
  },
  {
   "cell_type": "markdown",
   "metadata": {},
   "source": [
    "## Importing the Cancer Data"
   ]
  },
  {
   "cell_type": "code",
   "execution_count": 2,
   "metadata": {},
   "outputs": [],
   "source": [
    "CancerData = pd.read_csv(\"../data/canada_cancer_data.zip\",compression='zip',sep=',')"
   ]
  },
  {
   "cell_type": "code",
   "execution_count": 3,
   "metadata": {},
   "outputs": [
    {
     "data": {
      "text/plain": [
       "Index(['Unnamed: 0', 'REF_DATE', 'GEO', 'Age Group', 'Sex',\n",
       "       'Primary types of cancer (ICD-O-3)', 'Prevalence duration',\n",
       "       'Characteristics', 'VALUE'],\n",
       "      dtype='object')"
      ]
     },
     "execution_count": 3,
     "metadata": {},
     "output_type": "execute_result"
    }
   ],
   "source": [
    "CancerData.columns"
   ]
  },
  {
   "cell_type": "markdown",
   "metadata": {},
   "source": [
    "## Choosing the columns to drop down\n",
    "### DGUID, UOM, UOM_ID, SCALAR_FACTOR, SCALAR_ID, VECTOR, COORDINATE, STATUS, SYMBOL, TERMINATED, DECIMALS"
   ]
  },
  {
   "cell_type": "code",
   "execution_count": 4,
   "metadata": {},
   "outputs": [],
   "source": [
    "DropCols = ['DGUID', 'UOM', 'UOM_ID', 'SCALAR_FACTOR', 'SCALAR_ID', 'VECTOR', 'COORDINATE', 'STATUS', 'SYMBOL', 'TERMINATED', 'DECIMALS']\n",
    "\n",
    "CancerData.drop(DropCols,axis=1,inplace=True) # implace will modify the data itself"
   ]
  },
  {
   "cell_type": "code",
   "execution_count": 5,
   "metadata": {},
   "outputs": [
    {
     "data": {
      "text/html": [
       "<div>\n",
       "<style scoped>\n",
       "    .dataframe tbody tr th:only-of-type {\n",
       "        vertical-align: middle;\n",
       "    }\n",
       "\n",
       "    .dataframe tbody tr th {\n",
       "        vertical-align: top;\n",
       "    }\n",
       "\n",
       "    .dataframe thead th {\n",
       "        text-align: right;\n",
       "    }\n",
       "</style>\n",
       "<table border=\"1\" class=\"dataframe\">\n",
       "  <thead>\n",
       "    <tr style=\"text-align: right;\">\n",
       "      <th></th>\n",
       "      <th>REF_DATE</th>\n",
       "      <th>GEO</th>\n",
       "      <th>Age Group</th>\n",
       "      <th>Sex</th>\n",
       "      <th>Primary types of cancer (ICD-O-3)</th>\n",
       "      <th>Prevalence duration</th>\n",
       "      <th>Characteristics</th>\n",
       "      <th>VALUE</th>\n",
       "    </tr>\n",
       "  </thead>\n",
       "  <tbody>\n",
       "    <tr>\n",
       "      <th>0</th>\n",
       "      <td>1994</td>\n",
       "      <td>Canada</td>\n",
       "      <td>Total, all ages</td>\n",
       "      <td>Both sexes</td>\n",
       "      <td>Total, all primary sites of cancer [C00.0-C80.9]</td>\n",
       "      <td>2-year duration</td>\n",
       "      <td>Total number of cancer cases</td>\n",
       "      <td>165090.0</td>\n",
       "    </tr>\n",
       "    <tr>\n",
       "      <th>1</th>\n",
       "      <td>1994</td>\n",
       "      <td>Canada</td>\n",
       "      <td>Total, all ages</td>\n",
       "      <td>Both sexes</td>\n",
       "      <td>Total, all primary sites of cancer [C00.0-C80.9]</td>\n",
       "      <td>2-year duration</td>\n",
       "      <td>Cancer prevalence proportion</td>\n",
       "      <td>572.4</td>\n",
       "    </tr>\n",
       "    <tr>\n",
       "      <th>2</th>\n",
       "      <td>1994</td>\n",
       "      <td>Canada</td>\n",
       "      <td>Total, all ages</td>\n",
       "      <td>Both sexes</td>\n",
       "      <td>Total, all primary sites of cancer [C00.0-C80.9]</td>\n",
       "      <td>2-year duration</td>\n",
       "      <td>Low 95% confidence interval, cancer prevalence</td>\n",
       "      <td>569.6</td>\n",
       "    </tr>\n",
       "    <tr>\n",
       "      <th>3</th>\n",
       "      <td>1994</td>\n",
       "      <td>Canada</td>\n",
       "      <td>Total, all ages</td>\n",
       "      <td>Both sexes</td>\n",
       "      <td>Total, all primary sites of cancer [C00.0-C80.9]</td>\n",
       "      <td>2-year duration</td>\n",
       "      <td>High 95% confidence interval, cancer prevalence</td>\n",
       "      <td>575.1</td>\n",
       "    </tr>\n",
       "    <tr>\n",
       "      <th>4</th>\n",
       "      <td>1994</td>\n",
       "      <td>Canada</td>\n",
       "      <td>Total, all ages</td>\n",
       "      <td>Both sexes</td>\n",
       "      <td>Lip [C00.0-C00.9]</td>\n",
       "      <td>2-year duration</td>\n",
       "      <td>Total number of cancer cases</td>\n",
       "      <td>1165.0</td>\n",
       "    </tr>\n",
       "  </tbody>\n",
       "</table>\n",
       "</div>"
      ],
      "text/plain": [
       "   REF_DATE     GEO        Age Group         Sex  \\\n",
       "0      1994  Canada  Total, all ages  Both sexes   \n",
       "1      1994  Canada  Total, all ages  Both sexes   \n",
       "2      1994  Canada  Total, all ages  Both sexes   \n",
       "3      1994  Canada  Total, all ages  Both sexes   \n",
       "4      1994  Canada  Total, all ages  Both sexes   \n",
       "\n",
       "                  Primary types of cancer (ICD-O-3) Prevalence duration  \\\n",
       "0  Total, all primary sites of cancer [C00.0-C80.9]     2-year duration   \n",
       "1  Total, all primary sites of cancer [C00.0-C80.9]     2-year duration   \n",
       "2  Total, all primary sites of cancer [C00.0-C80.9]     2-year duration   \n",
       "3  Total, all primary sites of cancer [C00.0-C80.9]     2-year duration   \n",
       "4                                 Lip [C00.0-C00.9]     2-year duration   \n",
       "\n",
       "                                   Characteristics     VALUE  \n",
       "0                     Total number of cancer cases  165090.0  \n",
       "1                     Cancer prevalence proportion     572.4  \n",
       "2   Low 95% confidence interval, cancer prevalence     569.6  \n",
       "3  High 95% confidence interval, cancer prevalence     575.1  \n",
       "4                     Total number of cancer cases    1165.0  "
      ]
     },
     "execution_count": 5,
     "metadata": {},
     "output_type": "execute_result"
    }
   ],
   "source": [
    "CancerData.head()"
   ]
  },
  {
   "cell_type": "markdown",
   "metadata": {},
   "source": [
    "## To Change the AgeGroup in to Int of the form for eg: Total, all ages -> 0, and 0-19 years becomes 1"
   ]
  },
  {
   "cell_type": "code",
   "execution_count": 6,
   "metadata": {},
   "outputs": [
    {
     "data": {
      "text/plain": [
       "{'Total, all ages': 0,\n",
       " '0-19 years': 1,\n",
       " '20-29 years': 2,\n",
       " '30-39 years': 3,\n",
       " '40-49 years': 4,\n",
       " '50-59 years': 5,\n",
       " '60-69 years': 6,\n",
       " '70-79 years': 7,\n",
       " '80-89 years': 8,\n",
       " '90-99 years': 9}"
      ]
     },
     "execution_count": 6,
     "metadata": {},
     "output_type": "execute_result"
    }
   ],
   "source": [
    "AgeGroup = {i[1] : i[0]  for i in enumerate(CancerData[\"Age Group\"].unique())}\n",
    "AgeGroup"
   ]
  },
  {
   "cell_type": "code",
   "execution_count": 7,
   "metadata": {},
   "outputs": [],
   "source": [
    "CancerData[\"Age Group\"].replace(AgeGroup,inplace=True)"
   ]
  },
  {
   "cell_type": "code",
   "execution_count": 8,
   "metadata": {},
   "outputs": [
    {
     "data": {
      "text/html": [
       "<div>\n",
       "<style scoped>\n",
       "    .dataframe tbody tr th:only-of-type {\n",
       "        vertical-align: middle;\n",
       "    }\n",
       "\n",
       "    .dataframe tbody tr th {\n",
       "        vertical-align: top;\n",
       "    }\n",
       "\n",
       "    .dataframe thead th {\n",
       "        text-align: right;\n",
       "    }\n",
       "</style>\n",
       "<table border=\"1\" class=\"dataframe\">\n",
       "  <thead>\n",
       "    <tr style=\"text-align: right;\">\n",
       "      <th></th>\n",
       "      <th>REF_DATE</th>\n",
       "      <th>GEO</th>\n",
       "      <th>Age Group</th>\n",
       "      <th>Sex</th>\n",
       "      <th>Primary types of cancer (ICD-O-3)</th>\n",
       "      <th>Prevalence duration</th>\n",
       "      <th>Characteristics</th>\n",
       "      <th>VALUE</th>\n",
       "    </tr>\n",
       "  </thead>\n",
       "  <tbody>\n",
       "    <tr>\n",
       "      <th>0</th>\n",
       "      <td>1994</td>\n",
       "      <td>Canada</td>\n",
       "      <td>0</td>\n",
       "      <td>Both sexes</td>\n",
       "      <td>Total, all primary sites of cancer [C00.0-C80.9]</td>\n",
       "      <td>2-year duration</td>\n",
       "      <td>Total number of cancer cases</td>\n",
       "      <td>165090.0</td>\n",
       "    </tr>\n",
       "    <tr>\n",
       "      <th>1</th>\n",
       "      <td>1994</td>\n",
       "      <td>Canada</td>\n",
       "      <td>0</td>\n",
       "      <td>Both sexes</td>\n",
       "      <td>Total, all primary sites of cancer [C00.0-C80.9]</td>\n",
       "      <td>2-year duration</td>\n",
       "      <td>Cancer prevalence proportion</td>\n",
       "      <td>572.4</td>\n",
       "    </tr>\n",
       "    <tr>\n",
       "      <th>2</th>\n",
       "      <td>1994</td>\n",
       "      <td>Canada</td>\n",
       "      <td>0</td>\n",
       "      <td>Both sexes</td>\n",
       "      <td>Total, all primary sites of cancer [C00.0-C80.9]</td>\n",
       "      <td>2-year duration</td>\n",
       "      <td>Low 95% confidence interval, cancer prevalence</td>\n",
       "      <td>569.6</td>\n",
       "    </tr>\n",
       "    <tr>\n",
       "      <th>3</th>\n",
       "      <td>1994</td>\n",
       "      <td>Canada</td>\n",
       "      <td>0</td>\n",
       "      <td>Both sexes</td>\n",
       "      <td>Total, all primary sites of cancer [C00.0-C80.9]</td>\n",
       "      <td>2-year duration</td>\n",
       "      <td>High 95% confidence interval, cancer prevalence</td>\n",
       "      <td>575.1</td>\n",
       "    </tr>\n",
       "    <tr>\n",
       "      <th>4</th>\n",
       "      <td>1994</td>\n",
       "      <td>Canada</td>\n",
       "      <td>0</td>\n",
       "      <td>Both sexes</td>\n",
       "      <td>Lip [C00.0-C00.9]</td>\n",
       "      <td>2-year duration</td>\n",
       "      <td>Total number of cancer cases</td>\n",
       "      <td>1165.0</td>\n",
       "    </tr>\n",
       "  </tbody>\n",
       "</table>\n",
       "</div>"
      ],
      "text/plain": [
       "   REF_DATE     GEO  Age Group         Sex  \\\n",
       "0      1994  Canada          0  Both sexes   \n",
       "1      1994  Canada          0  Both sexes   \n",
       "2      1994  Canada          0  Both sexes   \n",
       "3      1994  Canada          0  Both sexes   \n",
       "4      1994  Canada          0  Both sexes   \n",
       "\n",
       "                  Primary types of cancer (ICD-O-3) Prevalence duration  \\\n",
       "0  Total, all primary sites of cancer [C00.0-C80.9]     2-year duration   \n",
       "1  Total, all primary sites of cancer [C00.0-C80.9]     2-year duration   \n",
       "2  Total, all primary sites of cancer [C00.0-C80.9]     2-year duration   \n",
       "3  Total, all primary sites of cancer [C00.0-C80.9]     2-year duration   \n",
       "4                                 Lip [C00.0-C00.9]     2-year duration   \n",
       "\n",
       "                                   Characteristics     VALUE  \n",
       "0                     Total number of cancer cases  165090.0  \n",
       "1                     Cancer prevalence proportion     572.4  \n",
       "2   Low 95% confidence interval, cancer prevalence     569.6  \n",
       "3  High 95% confidence interval, cancer prevalence     575.1  \n",
       "4                     Total number of cancer cases    1165.0  "
      ]
     },
     "execution_count": 8,
     "metadata": {},
     "output_type": "execute_result"
    }
   ],
   "source": [
    "CancerData.head()"
   ]
  },
  {
   "cell_type": "markdown",
   "metadata": {},
   "source": [
    "## Now we Can replace Sex with alphabets, for eg Both sexes -> B, and Male -> M and Female -> F"
   ]
  },
  {
   "cell_type": "code",
   "execution_count": 9,
   "metadata": {},
   "outputs": [
    {
     "data": {
      "text/plain": [
       "{'Both sexes': 'B', 'Males': 'M', 'Females': 'F'}"
      ]
     },
     "execution_count": 9,
     "metadata": {},
     "output_type": "execute_result"
    }
   ],
   "source": [
    "gender = {i : i[0]  for i in CancerData[\"Sex\"].unique()}\n",
    "gender"
   ]
  },
  {
   "cell_type": "code",
   "execution_count": 10,
   "metadata": {},
   "outputs": [
    {
     "data": {
      "text/html": [
       "<div>\n",
       "<style scoped>\n",
       "    .dataframe tbody tr th:only-of-type {\n",
       "        vertical-align: middle;\n",
       "    }\n",
       "\n",
       "    .dataframe tbody tr th {\n",
       "        vertical-align: top;\n",
       "    }\n",
       "\n",
       "    .dataframe thead th {\n",
       "        text-align: right;\n",
       "    }\n",
       "</style>\n",
       "<table border=\"1\" class=\"dataframe\">\n",
       "  <thead>\n",
       "    <tr style=\"text-align: right;\">\n",
       "      <th></th>\n",
       "      <th>REF_DATE</th>\n",
       "      <th>GEO</th>\n",
       "      <th>Age Group</th>\n",
       "      <th>Sex</th>\n",
       "      <th>Primary types of cancer (ICD-O-3)</th>\n",
       "      <th>Prevalence duration</th>\n",
       "      <th>Characteristics</th>\n",
       "      <th>VALUE</th>\n",
       "    </tr>\n",
       "  </thead>\n",
       "  <tbody>\n",
       "    <tr>\n",
       "      <th>0</th>\n",
       "      <td>1994</td>\n",
       "      <td>Canada</td>\n",
       "      <td>0</td>\n",
       "      <td>B</td>\n",
       "      <td>Total, all primary sites of cancer [C00.0-C80.9]</td>\n",
       "      <td>2-year duration</td>\n",
       "      <td>Total number of cancer cases</td>\n",
       "      <td>165090.0</td>\n",
       "    </tr>\n",
       "    <tr>\n",
       "      <th>1</th>\n",
       "      <td>1994</td>\n",
       "      <td>Canada</td>\n",
       "      <td>0</td>\n",
       "      <td>B</td>\n",
       "      <td>Total, all primary sites of cancer [C00.0-C80.9]</td>\n",
       "      <td>2-year duration</td>\n",
       "      <td>Cancer prevalence proportion</td>\n",
       "      <td>572.4</td>\n",
       "    </tr>\n",
       "    <tr>\n",
       "      <th>2</th>\n",
       "      <td>1994</td>\n",
       "      <td>Canada</td>\n",
       "      <td>0</td>\n",
       "      <td>B</td>\n",
       "      <td>Total, all primary sites of cancer [C00.0-C80.9]</td>\n",
       "      <td>2-year duration</td>\n",
       "      <td>Low 95% confidence interval, cancer prevalence</td>\n",
       "      <td>569.6</td>\n",
       "    </tr>\n",
       "    <tr>\n",
       "      <th>3</th>\n",
       "      <td>1994</td>\n",
       "      <td>Canada</td>\n",
       "      <td>0</td>\n",
       "      <td>B</td>\n",
       "      <td>Total, all primary sites of cancer [C00.0-C80.9]</td>\n",
       "      <td>2-year duration</td>\n",
       "      <td>High 95% confidence interval, cancer prevalence</td>\n",
       "      <td>575.1</td>\n",
       "    </tr>\n",
       "    <tr>\n",
       "      <th>4</th>\n",
       "      <td>1994</td>\n",
       "      <td>Canada</td>\n",
       "      <td>0</td>\n",
       "      <td>B</td>\n",
       "      <td>Lip [C00.0-C00.9]</td>\n",
       "      <td>2-year duration</td>\n",
       "      <td>Total number of cancer cases</td>\n",
       "      <td>1165.0</td>\n",
       "    </tr>\n",
       "  </tbody>\n",
       "</table>\n",
       "</div>"
      ],
      "text/plain": [
       "   REF_DATE     GEO  Age Group Sex  \\\n",
       "0      1994  Canada          0   B   \n",
       "1      1994  Canada          0   B   \n",
       "2      1994  Canada          0   B   \n",
       "3      1994  Canada          0   B   \n",
       "4      1994  Canada          0   B   \n",
       "\n",
       "                  Primary types of cancer (ICD-O-3) Prevalence duration  \\\n",
       "0  Total, all primary sites of cancer [C00.0-C80.9]     2-year duration   \n",
       "1  Total, all primary sites of cancer [C00.0-C80.9]     2-year duration   \n",
       "2  Total, all primary sites of cancer [C00.0-C80.9]     2-year duration   \n",
       "3  Total, all primary sites of cancer [C00.0-C80.9]     2-year duration   \n",
       "4                                 Lip [C00.0-C00.9]     2-year duration   \n",
       "\n",
       "                                   Characteristics     VALUE  \n",
       "0                     Total number of cancer cases  165090.0  \n",
       "1                     Cancer prevalence proportion     572.4  \n",
       "2   Low 95% confidence interval, cancer prevalence     569.6  \n",
       "3  High 95% confidence interval, cancer prevalence     575.1  \n",
       "4                     Total number of cancer cases    1165.0  "
      ]
     },
     "execution_count": 10,
     "metadata": {},
     "output_type": "execute_result"
    }
   ],
   "source": [
    "CancerData[\"Sex\"].replace(gender,inplace=True)\n",
    "CancerData.head()"
   ]
  },
  {
   "cell_type": "markdown",
   "metadata": {},
   "source": [
    "## For the Cancer Names let us "
   ]
  },
  {
   "cell_type": "code",
   "execution_count": 13,
   "metadata": {},
   "outputs": [
    {
     "data": {
      "text/plain": [
       "dict_values([0, 1, 2, 3, 4, 5, 6, 7, 8, 9, 10, 11, 12, 13, 14, 15, 16, 17, 18, 19, 20, 21, 22, 23, 24, 25, 26, 27, 28, 29, 30, 31, 32, 33, 34, 35, 36, 37, 38, 39, 40, 41, 42, 43, 44, 45, 46, 47, 48, 49, 50, 51, 52, 53, 54, 55, 56, 57])"
      ]
     },
     "execution_count": 13,
     "metadata": {},
     "output_type": "execute_result"
    }
   ],
   "source": [
    "CancerNames = {i[1] : i[0] for i in enumerate(CancerData[\"Primary types of cancer (ICD-O-3)\"].unique())}\n",
    "CancerNames.values()"
   ]
  },
  {
   "cell_type": "code",
   "execution_count": 14,
   "metadata": {},
   "outputs": [
    {
     "data": {
      "text/html": [
       "<div>\n",
       "<style scoped>\n",
       "    .dataframe tbody tr th:only-of-type {\n",
       "        vertical-align: middle;\n",
       "    }\n",
       "\n",
       "    .dataframe tbody tr th {\n",
       "        vertical-align: top;\n",
       "    }\n",
       "\n",
       "    .dataframe thead th {\n",
       "        text-align: right;\n",
       "    }\n",
       "</style>\n",
       "<table border=\"1\" class=\"dataframe\">\n",
       "  <thead>\n",
       "    <tr style=\"text-align: right;\">\n",
       "      <th></th>\n",
       "      <th>REF_DATE</th>\n",
       "      <th>GEO</th>\n",
       "      <th>Age Group</th>\n",
       "      <th>Sex</th>\n",
       "      <th>Primary types of cancer (ICD-O-3)</th>\n",
       "      <th>Prevalence duration</th>\n",
       "      <th>Characteristics</th>\n",
       "      <th>VALUE</th>\n",
       "    </tr>\n",
       "  </thead>\n",
       "  <tbody>\n",
       "    <tr>\n",
       "      <th>0</th>\n",
       "      <td>1994</td>\n",
       "      <td>Canada</td>\n",
       "      <td>0</td>\n",
       "      <td>B</td>\n",
       "      <td>0</td>\n",
       "      <td>2-year duration</td>\n",
       "      <td>Total number of cancer cases</td>\n",
       "      <td>165090.0</td>\n",
       "    </tr>\n",
       "    <tr>\n",
       "      <th>1</th>\n",
       "      <td>1994</td>\n",
       "      <td>Canada</td>\n",
       "      <td>0</td>\n",
       "      <td>B</td>\n",
       "      <td>0</td>\n",
       "      <td>2-year duration</td>\n",
       "      <td>Cancer prevalence proportion</td>\n",
       "      <td>572.4</td>\n",
       "    </tr>\n",
       "    <tr>\n",
       "      <th>2</th>\n",
       "      <td>1994</td>\n",
       "      <td>Canada</td>\n",
       "      <td>0</td>\n",
       "      <td>B</td>\n",
       "      <td>0</td>\n",
       "      <td>2-year duration</td>\n",
       "      <td>Low 95% confidence interval, cancer prevalence</td>\n",
       "      <td>569.6</td>\n",
       "    </tr>\n",
       "    <tr>\n",
       "      <th>3</th>\n",
       "      <td>1994</td>\n",
       "      <td>Canada</td>\n",
       "      <td>0</td>\n",
       "      <td>B</td>\n",
       "      <td>0</td>\n",
       "      <td>2-year duration</td>\n",
       "      <td>High 95% confidence interval, cancer prevalence</td>\n",
       "      <td>575.1</td>\n",
       "    </tr>\n",
       "    <tr>\n",
       "      <th>4</th>\n",
       "      <td>1994</td>\n",
       "      <td>Canada</td>\n",
       "      <td>0</td>\n",
       "      <td>B</td>\n",
       "      <td>1</td>\n",
       "      <td>2-year duration</td>\n",
       "      <td>Total number of cancer cases</td>\n",
       "      <td>1165.0</td>\n",
       "    </tr>\n",
       "  </tbody>\n",
       "</table>\n",
       "</div>"
      ],
      "text/plain": [
       "   REF_DATE     GEO  Age Group Sex  Primary types of cancer (ICD-O-3)  \\\n",
       "0      1994  Canada          0   B                                  0   \n",
       "1      1994  Canada          0   B                                  0   \n",
       "2      1994  Canada          0   B                                  0   \n",
       "3      1994  Canada          0   B                                  0   \n",
       "4      1994  Canada          0   B                                  1   \n",
       "\n",
       "  Prevalence duration                                  Characteristics  \\\n",
       "0     2-year duration                     Total number of cancer cases   \n",
       "1     2-year duration                     Cancer prevalence proportion   \n",
       "2     2-year duration   Low 95% confidence interval, cancer prevalence   \n",
       "3     2-year duration  High 95% confidence interval, cancer prevalence   \n",
       "4     2-year duration                     Total number of cancer cases   \n",
       "\n",
       "      VALUE  \n",
       "0  165090.0  \n",
       "1     572.4  \n",
       "2     569.6  \n",
       "3     575.1  \n",
       "4    1165.0  "
      ]
     },
     "execution_count": 14,
     "metadata": {},
     "output_type": "execute_result"
    }
   ],
   "source": [
    "CancerData[\"Primary types of cancer (ICD-O-3)\"].replace(CancerNames,inplace=True)\n",
    "CancerData.head()"
   ]
  },
  {
   "cell_type": "code",
   "execution_count": 15,
   "metadata": {},
   "outputs": [
    {
     "data": {
      "text/plain": [
       "{'2-year duration': '2',\n",
       " '5-year duration': '5',\n",
       " '10-year duration': '10',\n",
       " '20-year duration': '20'}"
      ]
     },
     "execution_count": 15,
     "metadata": {},
     "output_type": "execute_result"
    }
   ],
   "source": [
    "PrevalenceDuration = {i : i.split('-')[0] for i in CancerData[\"Prevalence duration\"].unique()}\n",
    "PrevalenceDuration"
   ]
  },
  {
   "cell_type": "code",
   "execution_count": 16,
   "metadata": {},
   "outputs": [
    {
     "data": {
      "text/html": [
       "<div>\n",
       "<style scoped>\n",
       "    .dataframe tbody tr th:only-of-type {\n",
       "        vertical-align: middle;\n",
       "    }\n",
       "\n",
       "    .dataframe tbody tr th {\n",
       "        vertical-align: top;\n",
       "    }\n",
       "\n",
       "    .dataframe thead th {\n",
       "        text-align: right;\n",
       "    }\n",
       "</style>\n",
       "<table border=\"1\" class=\"dataframe\">\n",
       "  <thead>\n",
       "    <tr style=\"text-align: right;\">\n",
       "      <th></th>\n",
       "      <th>REF_DATE</th>\n",
       "      <th>GEO</th>\n",
       "      <th>Age Group</th>\n",
       "      <th>Sex</th>\n",
       "      <th>Primary types of cancer (ICD-O-3)</th>\n",
       "      <th>Prevalence duration</th>\n",
       "      <th>Characteristics</th>\n",
       "      <th>VALUE</th>\n",
       "    </tr>\n",
       "  </thead>\n",
       "  <tbody>\n",
       "    <tr>\n",
       "      <th>0</th>\n",
       "      <td>1994</td>\n",
       "      <td>Canada</td>\n",
       "      <td>0</td>\n",
       "      <td>B</td>\n",
       "      <td>0</td>\n",
       "      <td>2</td>\n",
       "      <td>Total number of cancer cases</td>\n",
       "      <td>165090.0</td>\n",
       "    </tr>\n",
       "    <tr>\n",
       "      <th>1</th>\n",
       "      <td>1994</td>\n",
       "      <td>Canada</td>\n",
       "      <td>0</td>\n",
       "      <td>B</td>\n",
       "      <td>0</td>\n",
       "      <td>2</td>\n",
       "      <td>Cancer prevalence proportion</td>\n",
       "      <td>572.4</td>\n",
       "    </tr>\n",
       "    <tr>\n",
       "      <th>2</th>\n",
       "      <td>1994</td>\n",
       "      <td>Canada</td>\n",
       "      <td>0</td>\n",
       "      <td>B</td>\n",
       "      <td>0</td>\n",
       "      <td>2</td>\n",
       "      <td>Low 95% confidence interval, cancer prevalence</td>\n",
       "      <td>569.6</td>\n",
       "    </tr>\n",
       "    <tr>\n",
       "      <th>3</th>\n",
       "      <td>1994</td>\n",
       "      <td>Canada</td>\n",
       "      <td>0</td>\n",
       "      <td>B</td>\n",
       "      <td>0</td>\n",
       "      <td>2</td>\n",
       "      <td>High 95% confidence interval, cancer prevalence</td>\n",
       "      <td>575.1</td>\n",
       "    </tr>\n",
       "    <tr>\n",
       "      <th>4</th>\n",
       "      <td>1994</td>\n",
       "      <td>Canada</td>\n",
       "      <td>0</td>\n",
       "      <td>B</td>\n",
       "      <td>1</td>\n",
       "      <td>2</td>\n",
       "      <td>Total number of cancer cases</td>\n",
       "      <td>1165.0</td>\n",
       "    </tr>\n",
       "  </tbody>\n",
       "</table>\n",
       "</div>"
      ],
      "text/plain": [
       "   REF_DATE     GEO  Age Group Sex  Primary types of cancer (ICD-O-3)  \\\n",
       "0      1994  Canada          0   B                                  0   \n",
       "1      1994  Canada          0   B                                  0   \n",
       "2      1994  Canada          0   B                                  0   \n",
       "3      1994  Canada          0   B                                  0   \n",
       "4      1994  Canada          0   B                                  1   \n",
       "\n",
       "  Prevalence duration                                  Characteristics  \\\n",
       "0                   2                     Total number of cancer cases   \n",
       "1                   2                     Cancer prevalence proportion   \n",
       "2                   2   Low 95% confidence interval, cancer prevalence   \n",
       "3                   2  High 95% confidence interval, cancer prevalence   \n",
       "4                   2                     Total number of cancer cases   \n",
       "\n",
       "      VALUE  \n",
       "0  165090.0  \n",
       "1     572.4  \n",
       "2     569.6  \n",
       "3     575.1  \n",
       "4    1165.0  "
      ]
     },
     "execution_count": 16,
     "metadata": {},
     "output_type": "execute_result"
    }
   ],
   "source": [
    "CancerData[\"Prevalence duration\"].replace(PrevalenceDuration,inplace=True)\n",
    "CancerData.head()"
   ]
  },
  {
   "cell_type": "code",
   "execution_count": 17,
   "metadata": {},
   "outputs": [
    {
     "data": {
      "text/plain": [
       "{'Total number of cancer cases': 'T',\n",
       " 'Cancer prevalence proportion': 'P',\n",
       " 'Low 95% confidence interval, cancer prevalence': 'L',\n",
       " 'High 95% confidence interval, cancer prevalence': 'H'}"
      ]
     },
     "execution_count": 17,
     "metadata": {},
     "output_type": "execute_result"
    }
   ],
   "source": [
    "Characteristics = {'Total number of cancer cases': 'T','Cancer prevalence proportion' : 'P',\n",
    "       'Low 95% confidence interval, cancer prevalence' : 'L',\n",
    "       'High 95% confidence interval, cancer prevalence': 'H'}\n",
    "Characteristics"
   ]
  },
  {
   "cell_type": "code",
   "execution_count": 18,
   "metadata": {},
   "outputs": [
    {
     "data": {
      "text/html": [
       "<div>\n",
       "<style scoped>\n",
       "    .dataframe tbody tr th:only-of-type {\n",
       "        vertical-align: middle;\n",
       "    }\n",
       "\n",
       "    .dataframe tbody tr th {\n",
       "        vertical-align: top;\n",
       "    }\n",
       "\n",
       "    .dataframe thead th {\n",
       "        text-align: right;\n",
       "    }\n",
       "</style>\n",
       "<table border=\"1\" class=\"dataframe\">\n",
       "  <thead>\n",
       "    <tr style=\"text-align: right;\">\n",
       "      <th></th>\n",
       "      <th>REF_DATE</th>\n",
       "      <th>GEO</th>\n",
       "      <th>Age Group</th>\n",
       "      <th>Sex</th>\n",
       "      <th>Primary types of cancer (ICD-O-3)</th>\n",
       "      <th>Prevalence duration</th>\n",
       "      <th>Characteristics</th>\n",
       "      <th>VALUE</th>\n",
       "    </tr>\n",
       "  </thead>\n",
       "  <tbody>\n",
       "    <tr>\n",
       "      <th>0</th>\n",
       "      <td>1994</td>\n",
       "      <td>Canada</td>\n",
       "      <td>0</td>\n",
       "      <td>B</td>\n",
       "      <td>0</td>\n",
       "      <td>2</td>\n",
       "      <td>T</td>\n",
       "      <td>165090.0</td>\n",
       "    </tr>\n",
       "    <tr>\n",
       "      <th>1</th>\n",
       "      <td>1994</td>\n",
       "      <td>Canada</td>\n",
       "      <td>0</td>\n",
       "      <td>B</td>\n",
       "      <td>0</td>\n",
       "      <td>2</td>\n",
       "      <td>P</td>\n",
       "      <td>572.4</td>\n",
       "    </tr>\n",
       "    <tr>\n",
       "      <th>2</th>\n",
       "      <td>1994</td>\n",
       "      <td>Canada</td>\n",
       "      <td>0</td>\n",
       "      <td>B</td>\n",
       "      <td>0</td>\n",
       "      <td>2</td>\n",
       "      <td>L</td>\n",
       "      <td>569.6</td>\n",
       "    </tr>\n",
       "    <tr>\n",
       "      <th>3</th>\n",
       "      <td>1994</td>\n",
       "      <td>Canada</td>\n",
       "      <td>0</td>\n",
       "      <td>B</td>\n",
       "      <td>0</td>\n",
       "      <td>2</td>\n",
       "      <td>H</td>\n",
       "      <td>575.1</td>\n",
       "    </tr>\n",
       "    <tr>\n",
       "      <th>4</th>\n",
       "      <td>1994</td>\n",
       "      <td>Canada</td>\n",
       "      <td>0</td>\n",
       "      <td>B</td>\n",
       "      <td>1</td>\n",
       "      <td>2</td>\n",
       "      <td>T</td>\n",
       "      <td>1165.0</td>\n",
       "    </tr>\n",
       "  </tbody>\n",
       "</table>\n",
       "</div>"
      ],
      "text/plain": [
       "   REF_DATE     GEO  Age Group Sex  Primary types of cancer (ICD-O-3)  \\\n",
       "0      1994  Canada          0   B                                  0   \n",
       "1      1994  Canada          0   B                                  0   \n",
       "2      1994  Canada          0   B                                  0   \n",
       "3      1994  Canada          0   B                                  0   \n",
       "4      1994  Canada          0   B                                  1   \n",
       "\n",
       "  Prevalence duration Characteristics     VALUE  \n",
       "0                   2               T  165090.0  \n",
       "1                   2               P     572.4  \n",
       "2                   2               L     569.6  \n",
       "3                   2               H     575.1  \n",
       "4                   2               T    1165.0  "
      ]
     },
     "execution_count": 18,
     "metadata": {},
     "output_type": "execute_result"
    }
   ],
   "source": [
    "CancerData[\"Characteristics\"].replace(Characteristics,inplace=True)\n",
    "CancerData.head()"
   ]
  },
  {
   "cell_type": "code",
   "execution_count": 19,
   "metadata": {},
   "outputs": [],
   "source": [
    "CancerData.to_csv(\"Cancer_Data_PreProcessed.csv\",sep=',')"
   ]
  },
  {
   "cell_type": "code",
   "execution_count": 42,
   "metadata": {},
   "outputs": [],
   "source": [
    "import zipfile\n",
    "zipfile.ZipFile(\"Cancer_Data_PreProcessed.zip\",'w').write(\"Cancer_Data_PreProcessed.csv\")"
   ]
  },
  {
   "cell_type": "markdown",
   "metadata": {},
   "source": [
    "# Now for convience we can save all the dictionaries into a pickle file which can go also as a resource \n",
    "## The format is as follows Dict({ColumnName : ModifiedColumnName})"
   ]
  },
  {
   "cell_type": "code",
   "execution_count": 21,
   "metadata": {},
   "outputs": [
    {
     "data": {
      "text/plain": [
       "Index(['REF_DATE', 'GEO', 'Age Group', 'Sex',\n",
       "       'Primary types of cancer (ICD-O-3)', 'Prevalence duration',\n",
       "       'Characteristics', 'VALUE'],\n",
       "      dtype='object')"
      ]
     },
     "execution_count": 21,
     "metadata": {},
     "output_type": "execute_result"
    }
   ],
   "source": [
    "CancerData.columns"
   ]
  },
  {
   "cell_type": "code",
   "execution_count": 24,
   "metadata": {},
   "outputs": [
    {
     "data": {
      "text/plain": [
       "dict_items([(1994, 1994), (1995, 1995), (1996, 1996), (1997, 1997), (1998, 1998), (1999, 1999), (2000, 2000), (2001, 2001), (2002, 2002), (2003, 2003), (2004, 2004), (2005, 2005), (2006, 2006), (2007, 2007), (2008, 2008), (2009, 2009), (2010, 2010), (2011, 2011), (2012, 2012), (2013, 2013), (2014, 2014), (2015, 2015)])"
      ]
     },
     "execution_count": 24,
     "metadata": {},
     "output_type": "execute_result"
    }
   ],
   "source": [
    "RefDate = {i : i for i in CancerData[\"REF_DATE\"].unique()}\n",
    "RefDate.items()"
   ]
  },
  {
   "cell_type": "code",
   "execution_count": 25,
   "metadata": {},
   "outputs": [
    {
     "data": {
      "text/plain": [
       "dict_items([('Canada', 'Canada'), ('Canada (excluding Quebec)', 'Canada (excluding Quebec)'), ('Newfoundland and Labrador', 'Newfoundland and Labrador'), ('Prince Edward Island', 'Prince Edward Island'), ('Nova Scotia', 'Nova Scotia'), ('New Brunswick', 'New Brunswick'), ('Quebec', 'Quebec'), ('Ontario', 'Ontario'), ('Manitoba', 'Manitoba'), ('Saskatchewan', 'Saskatchewan'), ('Alberta', 'Alberta'), ('British Columbia', 'British Columbia'), ('Yukon', 'Yukon'), ('Northwest Territories', 'Northwest Territories'), ('Nunavut', 'Nunavut')])"
      ]
     },
     "execution_count": 25,
     "metadata": {},
     "output_type": "execute_result"
    }
   ],
   "source": [
    "GeoName = {i : i for i in CancerData[\"GEO\"].unique()}\n",
    "GeoName.items()"
   ]
  },
  {
   "cell_type": "code",
   "execution_count": 28,
   "metadata": {},
   "outputs": [
    {
     "data": {
      "text/plain": [
       "dict_items([('Total, all ages', 0), ('0-19 years', 1), ('20-29 years', 2), ('30-39 years', 3), ('40-49 years', 4), ('50-59 years', 5), ('60-69 years', 6), ('70-79 years', 7), ('80-89 years', 8), ('90-99 years', 9)])"
      ]
     },
     "execution_count": 28,
     "metadata": {},
     "output_type": "execute_result"
    }
   ],
   "source": [
    "AgeGroup.items()"
   ]
  },
  {
   "cell_type": "code",
   "execution_count": 29,
   "metadata": {},
   "outputs": [
    {
     "data": {
      "text/plain": [
       "dict_items([('Both sexes', 'B'), ('Males', 'M'), ('Females', 'F')])"
      ]
     },
     "execution_count": 29,
     "metadata": {},
     "output_type": "execute_result"
    }
   ],
   "source": [
    "gender.items()"
   ]
  },
  {
   "cell_type": "code",
   "execution_count": 30,
   "metadata": {},
   "outputs": [
    {
     "data": {
      "text/plain": [
       "dict_items([('Total, all primary sites of cancer ', 0), ('Lip ', 1), ('Tongue ', 2), ('Salivary gland ', 3), ('Floor of mouth ', 4), ('Gum and other mouth ', 5), ('Nasopharynx ', 6), ('Oropharynx ', 7), ('Hypopharynx ', 8), ('Other oral cavity and pharynx ', 9), ('Esophagus ', 10), ('Stomach ', 11), ('Small intestine ', 12), ('Colon and rectum ', 13), ('Colon excluding rectum ', 14), ('Rectum and rectosigmoid ', 15), ('Anus, anal canal and anorectum ', 16), ('Liver ', 17), ('Gallbladder ', 18), ('Pancreas ', 19), ('Other digestive system ', 20), ('Larynx ', 21), ('Lung and bronchus ', 22), ('Other respiratory system ', 23), ('Bones and joints ', 24), ('Soft tissue (including heart) ', 25), ('Melanomas of the skin ', 26), ('Other non-epithelial skin ', 27), ('Breast ', 28), ('Cervix uteri ', 29), ('Corpus uteri ', 30), ('Uterus, not otherwise specified ', 31), ('Ovary ', 32), ('Other female genital system ', 33), ('Prostate ', 34), ('Testis ', 35), ('Penis ', 36), ('Other male genital organs ', 37), ('Urinary bladder (including in situ) ', 38), ('Kidney and renal pelvis ', 39), ('Ureter ', 40), ('Other urinary organs ', 41), ('Eye and orbit ', 42), ('Brain ', 43), ('Cranial nerves and other nervous system ', 44), ('Thyroid ', 45), ('Other endocrine ', 46), ('Hodgkin lymphoma ', 47), ('Non-Hodgkin lymphoma', 48), ('Myeloma ', 49), ('Acute lymphocytic leukemia ', 50), ('Chronic lymphocytic leukemia ', 51), ('Acute myeloid leukemia ', 52), ('Chronic myeloid leukemia ', 53), ('Other leukemia', 54), ('Other, ill-defined and unknown sites', 55), ('Mesothelioma ', 56), ('Kaposi sarcoma ', 57)])"
      ]
     },
     "execution_count": 30,
     "metadata": {},
     "output_type": "execute_result"
    }
   ],
   "source": [
    "CancerNames.items()"
   ]
  },
  {
   "cell_type": "code",
   "execution_count": 31,
   "metadata": {},
   "outputs": [
    {
     "data": {
      "text/plain": [
       "dict_items([('2-year duration', '2'), ('5-year duration', '5'), ('10-year duration', '10'), ('20-year duration', '20')])"
      ]
     },
     "execution_count": 31,
     "metadata": {},
     "output_type": "execute_result"
    }
   ],
   "source": [
    "PrevalenceDuration.items()"
   ]
  },
  {
   "cell_type": "code",
   "execution_count": 32,
   "metadata": {},
   "outputs": [
    {
     "data": {
      "text/plain": [
       "dict_items([('Total number of cancer cases', 'T'), ('Cancer prevalence proportion', 'P'), ('Low 95% confidence interval, cancer prevalence', 'L'), ('High 95% confidence interval, cancer prevalence', 'H')])"
      ]
     },
     "execution_count": 32,
     "metadata": {},
     "output_type": "execute_result"
    }
   ],
   "source": [
    "Characteristics.items()"
   ]
  },
  {
   "cell_type": "code",
   "execution_count": 33,
   "metadata": {},
   "outputs": [],
   "source": [
    "ColumnNamesDict = {'YEAR' : RefDate, 'GEO' : GeoName,'AGE' : AgeGroup, 'SEX' : gender,\n",
    "                   'CANCER_NAMES' : CancerNames, 'PREVALENCE_DURATION' : PrevalenceDuration, 'CHARACTERISTICS': Characteristics}\n"
   ]
  },
  {
   "cell_type": "code",
   "execution_count": 39,
   "metadata": {},
   "outputs": [],
   "source": [
    "import pickle as pkl \n",
    "file = open(\"MasterDict.pickle\",'wb')\n",
    "pkl.dump(ColumnNamesDict,file)\n",
    "file.close()"
   ]
  },
  {
   "cell_type": "code",
   "execution_count": 41,
   "metadata": {},
   "outputs": [
    {
     "data": {
      "text/plain": [
       "{'YEAR': {1994: 1994,\n",
       "  1995: 1995,\n",
       "  1996: 1996,\n",
       "  1997: 1997,\n",
       "  1998: 1998,\n",
       "  1999: 1999,\n",
       "  2000: 2000,\n",
       "  2001: 2001,\n",
       "  2002: 2002,\n",
       "  2003: 2003,\n",
       "  2004: 2004,\n",
       "  2005: 2005,\n",
       "  2006: 2006,\n",
       "  2007: 2007,\n",
       "  2008: 2008,\n",
       "  2009: 2009,\n",
       "  2010: 2010,\n",
       "  2011: 2011,\n",
       "  2012: 2012,\n",
       "  2013: 2013,\n",
       "  2014: 2014,\n",
       "  2015: 2015},\n",
       " 'GEO': {'Canada': 'Canada',\n",
       "  'Canada (excluding Quebec)': 'Canada (excluding Quebec)',\n",
       "  'Newfoundland and Labrador': 'Newfoundland and Labrador',\n",
       "  'Prince Edward Island': 'Prince Edward Island',\n",
       "  'Nova Scotia': 'Nova Scotia',\n",
       "  'New Brunswick': 'New Brunswick',\n",
       "  'Quebec': 'Quebec',\n",
       "  'Ontario': 'Ontario',\n",
       "  'Manitoba': 'Manitoba',\n",
       "  'Saskatchewan': 'Saskatchewan',\n",
       "  'Alberta': 'Alberta',\n",
       "  'British Columbia': 'British Columbia',\n",
       "  'Yukon': 'Yukon',\n",
       "  'Northwest Territories': 'Northwest Territories',\n",
       "  'Nunavut': 'Nunavut'},\n",
       " 'AGE': {'Total, all ages': 0,\n",
       "  '0-19 years': 1,\n",
       "  '20-29 years': 2,\n",
       "  '30-39 years': 3,\n",
       "  '40-49 years': 4,\n",
       "  '50-59 years': 5,\n",
       "  '60-69 years': 6,\n",
       "  '70-79 years': 7,\n",
       "  '80-89 years': 8,\n",
       "  '90-99 years': 9},\n",
       " 'SEX': {'Both sexes': 'B', 'Males': 'M', 'Females': 'F'},\n",
       " 'CANCER_NAMES': {'Total, all primary sites of cancer ': 0,\n",
       "  'Lip ': 1,\n",
       "  'Tongue ': 2,\n",
       "  'Salivary gland ': 3,\n",
       "  'Floor of mouth ': 4,\n",
       "  'Gum and other mouth ': 5,\n",
       "  'Nasopharynx ': 6,\n",
       "  'Oropharynx ': 7,\n",
       "  'Hypopharynx ': 8,\n",
       "  'Other oral cavity and pharynx ': 9,\n",
       "  'Esophagus ': 10,\n",
       "  'Stomach ': 11,\n",
       "  'Small intestine ': 12,\n",
       "  'Colon and rectum ': 13,\n",
       "  'Colon excluding rectum ': 14,\n",
       "  'Rectum and rectosigmoid ': 15,\n",
       "  'Anus, anal canal and anorectum ': 16,\n",
       "  'Liver ': 17,\n",
       "  'Gallbladder ': 18,\n",
       "  'Pancreas ': 19,\n",
       "  'Other digestive system ': 20,\n",
       "  'Larynx ': 21,\n",
       "  'Lung and bronchus ': 22,\n",
       "  'Other respiratory system ': 23,\n",
       "  'Bones and joints ': 24,\n",
       "  'Soft tissue (including heart) ': 25,\n",
       "  'Melanomas of the skin ': 26,\n",
       "  'Other non-epithelial skin ': 27,\n",
       "  'Breast ': 28,\n",
       "  'Cervix uteri ': 29,\n",
       "  'Corpus uteri ': 30,\n",
       "  'Uterus, not otherwise specified ': 31,\n",
       "  'Ovary ': 32,\n",
       "  'Other female genital system ': 33,\n",
       "  'Prostate ': 34,\n",
       "  'Testis ': 35,\n",
       "  'Penis ': 36,\n",
       "  'Other male genital organs ': 37,\n",
       "  'Urinary bladder (including in situ) ': 38,\n",
       "  'Kidney and renal pelvis ': 39,\n",
       "  'Ureter ': 40,\n",
       "  'Other urinary organs ': 41,\n",
       "  'Eye and orbit ': 42,\n",
       "  'Brain ': 43,\n",
       "  'Cranial nerves and other nervous system ': 44,\n",
       "  'Thyroid ': 45,\n",
       "  'Other endocrine ': 46,\n",
       "  'Hodgkin lymphoma ': 47,\n",
       "  'Non-Hodgkin lymphoma': 48,\n",
       "  'Myeloma ': 49,\n",
       "  'Acute lymphocytic leukemia ': 50,\n",
       "  'Chronic lymphocytic leukemia ': 51,\n",
       "  'Acute myeloid leukemia ': 52,\n",
       "  'Chronic myeloid leukemia ': 53,\n",
       "  'Other leukemia': 54,\n",
       "  'Other, ill-defined and unknown sites': 55,\n",
       "  'Mesothelioma ': 56,\n",
       "  'Kaposi sarcoma ': 57},\n",
       " 'PREVALENCE_DURATION': {'2-year duration': '2',\n",
       "  '5-year duration': '5',\n",
       "  '10-year duration': '10',\n",
       "  '20-year duration': '20'},\n",
       " 'CHARACTERISTICS': {'Total number of cancer cases': 'T',\n",
       "  'Cancer prevalence proportion': 'P',\n",
       "  'Low 95% confidence interval, cancer prevalence': 'L',\n",
       "  'High 95% confidence interval, cancer prevalence': 'H'}}"
      ]
     },
     "execution_count": 41,
     "metadata": {},
     "output_type": "execute_result"
    }
   ],
   "source": [
    "out = open(\"MasterDict.pickle\",'rb')\n",
    "Dict = pkl.load(out)\n",
    "out.close()\n",
    "Dict"
   ]
  },
  {
   "cell_type": "code",
   "execution_count": 5,
   "metadata": {},
   "outputs": [
    {
     "data": {
      "text/html": [
       "<div>\n",
       "<style scoped>\n",
       "    .dataframe tbody tr th:only-of-type {\n",
       "        vertical-align: middle;\n",
       "    }\n",
       "\n",
       "    .dataframe tbody tr th {\n",
       "        vertical-align: top;\n",
       "    }\n",
       "\n",
       "    .dataframe thead th {\n",
       "        text-align: right;\n",
       "    }\n",
       "</style>\n",
       "<table border=\"1\" class=\"dataframe\">\n",
       "  <thead>\n",
       "    <tr style=\"text-align: right;\">\n",
       "      <th></th>\n",
       "      <th>Unnamed: 0</th>\n",
       "      <th>REF_DATE</th>\n",
       "      <th>GEO</th>\n",
       "      <th>Age Group</th>\n",
       "      <th>Sex</th>\n",
       "      <th>Primary types of cancer (ICD-O-3)</th>\n",
       "      <th>Prevalence duration</th>\n",
       "      <th>Characteristics</th>\n",
       "      <th>VALUE</th>\n",
       "    </tr>\n",
       "  </thead>\n",
       "  <tbody>\n",
       "    <tr>\n",
       "      <th>0</th>\n",
       "      <td>0</td>\n",
       "      <td>1994</td>\n",
       "      <td>Canada</td>\n",
       "      <td>0</td>\n",
       "      <td>B</td>\n",
       "      <td>0</td>\n",
       "      <td>2</td>\n",
       "      <td>T</td>\n",
       "      <td>165090.0</td>\n",
       "    </tr>\n",
       "    <tr>\n",
       "      <th>1</th>\n",
       "      <td>1</td>\n",
       "      <td>1994</td>\n",
       "      <td>Canada</td>\n",
       "      <td>0</td>\n",
       "      <td>B</td>\n",
       "      <td>0</td>\n",
       "      <td>2</td>\n",
       "      <td>P</td>\n",
       "      <td>572.4</td>\n",
       "    </tr>\n",
       "    <tr>\n",
       "      <th>2</th>\n",
       "      <td>2</td>\n",
       "      <td>1994</td>\n",
       "      <td>Canada</td>\n",
       "      <td>0</td>\n",
       "      <td>B</td>\n",
       "      <td>0</td>\n",
       "      <td>2</td>\n",
       "      <td>L</td>\n",
       "      <td>569.6</td>\n",
       "    </tr>\n",
       "    <tr>\n",
       "      <th>3</th>\n",
       "      <td>3</td>\n",
       "      <td>1994</td>\n",
       "      <td>Canada</td>\n",
       "      <td>0</td>\n",
       "      <td>B</td>\n",
       "      <td>0</td>\n",
       "      <td>2</td>\n",
       "      <td>H</td>\n",
       "      <td>575.1</td>\n",
       "    </tr>\n",
       "    <tr>\n",
       "      <th>4</th>\n",
       "      <td>4</td>\n",
       "      <td>1994</td>\n",
       "      <td>Canada</td>\n",
       "      <td>0</td>\n",
       "      <td>B</td>\n",
       "      <td>1</td>\n",
       "      <td>2</td>\n",
       "      <td>T</td>\n",
       "      <td>1165.0</td>\n",
       "    </tr>\n",
       "  </tbody>\n",
       "</table>\n",
       "</div>"
      ],
      "text/plain": [
       "   Unnamed: 0  REF_DATE     GEO  Age Group Sex  \\\n",
       "0           0      1994  Canada          0   B   \n",
       "1           1      1994  Canada          0   B   \n",
       "2           2      1994  Canada          0   B   \n",
       "3           3      1994  Canada          0   B   \n",
       "4           4      1994  Canada          0   B   \n",
       "\n",
       "   Primary types of cancer (ICD-O-3)  Prevalence duration Characteristics  \\\n",
       "0                                  0                    2               T   \n",
       "1                                  0                    2               P   \n",
       "2                                  0                    2               L   \n",
       "3                                  0                    2               H   \n",
       "4                                  1                    2               T   \n",
       "\n",
       "      VALUE  \n",
       "0  165090.0  \n",
       "1     572.4  \n",
       "2     569.6  \n",
       "3     575.1  \n",
       "4    1165.0  "
      ]
     },
     "execution_count": 5,
     "metadata": {},
     "output_type": "execute_result"
    }
   ],
   "source": [
    "CancerData.head()"
   ]
  },
  {
   "cell_type": "markdown",
   "metadata": {},
   "source": [
    "## More formating on the data"
   ]
  },
  {
   "cell_type": "code",
   "execution_count": 10,
   "metadata": {},
   "outputs": [],
   "source": [
    "df = CancerData[CancerData['Characteristics'].isin(['T', 'P'])]"
   ]
  },
  {
   "cell_type": "code",
   "execution_count": 11,
   "metadata": {},
   "outputs": [
    {
     "data": {
      "text/html": [
       "<div>\n",
       "<style scoped>\n",
       "    .dataframe tbody tr th:only-of-type {\n",
       "        vertical-align: middle;\n",
       "    }\n",
       "\n",
       "    .dataframe tbody tr th {\n",
       "        vertical-align: top;\n",
       "    }\n",
       "\n",
       "    .dataframe thead th {\n",
       "        text-align: right;\n",
       "    }\n",
       "</style>\n",
       "<table border=\"1\" class=\"dataframe\">\n",
       "  <thead>\n",
       "    <tr style=\"text-align: right;\">\n",
       "      <th></th>\n",
       "      <th>Unnamed: 0</th>\n",
       "      <th>REF_DATE</th>\n",
       "      <th>GEO</th>\n",
       "      <th>Age Group</th>\n",
       "      <th>Sex</th>\n",
       "      <th>Primary types of cancer (ICD-O-3)</th>\n",
       "      <th>Prevalence duration</th>\n",
       "      <th>Characteristics</th>\n",
       "      <th>VALUE</th>\n",
       "    </tr>\n",
       "  </thead>\n",
       "  <tbody>\n",
       "    <tr>\n",
       "      <th>0</th>\n",
       "      <td>0</td>\n",
       "      <td>1994</td>\n",
       "      <td>Canada</td>\n",
       "      <td>0</td>\n",
       "      <td>B</td>\n",
       "      <td>0</td>\n",
       "      <td>2</td>\n",
       "      <td>T</td>\n",
       "      <td>165090.0</td>\n",
       "    </tr>\n",
       "    <tr>\n",
       "      <th>1</th>\n",
       "      <td>1</td>\n",
       "      <td>1994</td>\n",
       "      <td>Canada</td>\n",
       "      <td>0</td>\n",
       "      <td>B</td>\n",
       "      <td>0</td>\n",
       "      <td>2</td>\n",
       "      <td>P</td>\n",
       "      <td>572.4</td>\n",
       "    </tr>\n",
       "    <tr>\n",
       "      <th>4</th>\n",
       "      <td>4</td>\n",
       "      <td>1994</td>\n",
       "      <td>Canada</td>\n",
       "      <td>0</td>\n",
       "      <td>B</td>\n",
       "      <td>1</td>\n",
       "      <td>2</td>\n",
       "      <td>T</td>\n",
       "      <td>1165.0</td>\n",
       "    </tr>\n",
       "    <tr>\n",
       "      <th>5</th>\n",
       "      <td>5</td>\n",
       "      <td>1994</td>\n",
       "      <td>Canada</td>\n",
       "      <td>0</td>\n",
       "      <td>B</td>\n",
       "      <td>1</td>\n",
       "      <td>2</td>\n",
       "      <td>P</td>\n",
       "      <td>4.0</td>\n",
       "    </tr>\n",
       "    <tr>\n",
       "      <th>8</th>\n",
       "      <td>8</td>\n",
       "      <td>1994</td>\n",
       "      <td>Canada</td>\n",
       "      <td>0</td>\n",
       "      <td>B</td>\n",
       "      <td>2</td>\n",
       "      <td>2</td>\n",
       "      <td>T</td>\n",
       "      <td>820.0</td>\n",
       "    </tr>\n",
       "  </tbody>\n",
       "</table>\n",
       "</div>"
      ],
      "text/plain": [
       "   Unnamed: 0  REF_DATE     GEO  Age Group Sex  \\\n",
       "0           0      1994  Canada          0   B   \n",
       "1           1      1994  Canada          0   B   \n",
       "4           4      1994  Canada          0   B   \n",
       "5           5      1994  Canada          0   B   \n",
       "8           8      1994  Canada          0   B   \n",
       "\n",
       "   Primary types of cancer (ICD-O-3)  Prevalence duration Characteristics  \\\n",
       "0                                  0                    2               T   \n",
       "1                                  0                    2               P   \n",
       "4                                  1                    2               T   \n",
       "5                                  1                    2               P   \n",
       "8                                  2                    2               T   \n",
       "\n",
       "      VALUE  \n",
       "0  165090.0  \n",
       "1     572.4  \n",
       "4    1165.0  \n",
       "5       4.0  \n",
       "8     820.0  "
      ]
     },
     "execution_count": 11,
     "metadata": {},
     "output_type": "execute_result"
    }
   ],
   "source": [
    "df.head()"
   ]
  },
  {
   "cell_type": "code",
   "execution_count": 15,
   "metadata": {},
   "outputs": [],
   "source": [
    "import pickle as pkl"
   ]
  },
  {
   "cell_type": "code",
   "execution_count": 16,
   "metadata": {},
   "outputs": [],
   "source": [
    "pickle_file =open(\"../data/MasterDict.pickle\",'rb')\n",
    "MasterDict = pkl.load(pickle_file)\n",
    "pickle_file.close()"
   ]
  },
  {
   "cell_type": "code",
   "execution_count": 37,
   "metadata": {},
   "outputs": [],
   "source": [
    "MasterDict['CHARACTERISTICS'] = {'Total number of cancer cases': 'T',\n",
    " 'Cancer prevalence proportion': 'P'}"
   ]
  },
  {
   "cell_type": "code",
   "execution_count": null,
   "metadata": {},
   "outputs": [],
   "source": []
  },
  {
   "cell_type": "code",
   "execution_count": 38,
   "metadata": {},
   "outputs": [],
   "source": [
    "MasterDictInverse = {}\n",
    "\n",
    "for columns, rows in MasterDict.items():\n",
    "    MasterDictInverse[columns] = {value:key for key, value in rows.items()}\n"
   ]
  },
  {
   "cell_type": "code",
   "execution_count": 33,
   "metadata": {},
   "outputs": [
    {
     "data": {
      "text/plain": [
       "{'YEAR': {1994: 1994,\n",
       "  1995: 1995,\n",
       "  1996: 1996,\n",
       "  1997: 1997,\n",
       "  1998: 1998,\n",
       "  1999: 1999,\n",
       "  2000: 2000,\n",
       "  2001: 2001,\n",
       "  2002: 2002,\n",
       "  2003: 2003,\n",
       "  2004: 2004,\n",
       "  2005: 2005,\n",
       "  2006: 2006,\n",
       "  2007: 2007,\n",
       "  2008: 2008,\n",
       "  2009: 2009,\n",
       "  2010: 2010,\n",
       "  2011: 2011,\n",
       "  2012: 2012,\n",
       "  2013: 2013,\n",
       "  2014: 2014,\n",
       "  2015: 2015},\n",
       " 'GEO': {'Canada': 'Canada',\n",
       "  'Canada (excluding Quebec)': 'Canada (excluding Quebec)',\n",
       "  'Newfoundland and Labrador': 'Newfoundland and Labrador',\n",
       "  'Prince Edward Island': 'Prince Edward Island',\n",
       "  'Nova Scotia': 'Nova Scotia',\n",
       "  'New Brunswick': 'New Brunswick',\n",
       "  'Quebec': 'Quebec',\n",
       "  'Ontario': 'Ontario',\n",
       "  'Manitoba': 'Manitoba',\n",
       "  'Saskatchewan': 'Saskatchewan',\n",
       "  'Alberta': 'Alberta',\n",
       "  'British Columbia': 'British Columbia',\n",
       "  'Yukon': 'Yukon',\n",
       "  'Northwest Territories': 'Northwest Territories',\n",
       "  'Nunavut': 'Nunavut'},\n",
       " 'AGE': {0: 'Total, all ages',\n",
       "  1: '0-19 years',\n",
       "  2: '20-29 years',\n",
       "  3: '30-39 years',\n",
       "  4: '40-49 years',\n",
       "  5: '50-59 years',\n",
       "  6: '60-69 years',\n",
       "  7: '70-79 years',\n",
       "  8: '80-89 years',\n",
       "  9: '90-99 years'},\n",
       " 'SEX': {'B': 'Both sexes', 'M': 'Males', 'F': 'Females'},\n",
       " 'CANCER_NAMES': {0: 'Total, all primary sites of cancer ',\n",
       "  1: 'Lip ',\n",
       "  2: 'Tongue ',\n",
       "  3: 'Salivary gland ',\n",
       "  4: 'Floor of mouth ',\n",
       "  5: 'Gum and other mouth ',\n",
       "  6: 'Nasopharynx ',\n",
       "  7: 'Oropharynx ',\n",
       "  8: 'Hypopharynx ',\n",
       "  9: 'Other oral cavity and pharynx ',\n",
       "  10: 'Esophagus ',\n",
       "  11: 'Stomach ',\n",
       "  12: 'Small intestine ',\n",
       "  13: 'Colon and rectum ',\n",
       "  14: 'Colon excluding rectum ',\n",
       "  15: 'Rectum and rectosigmoid ',\n",
       "  16: 'Anus, anal canal and anorectum ',\n",
       "  17: 'Liver ',\n",
       "  18: 'Gallbladder ',\n",
       "  19: 'Pancreas ',\n",
       "  20: 'Other digestive system ',\n",
       "  21: 'Larynx ',\n",
       "  22: 'Lung and bronchus ',\n",
       "  23: 'Other respiratory system ',\n",
       "  24: 'Bones and joints ',\n",
       "  25: 'Soft tissue (including heart) ',\n",
       "  26: 'Melanomas of the skin ',\n",
       "  27: 'Other non-epithelial skin ',\n",
       "  28: 'Breast ',\n",
       "  29: 'Cervix uteri ',\n",
       "  30: 'Corpus uteri ',\n",
       "  31: 'Uterus, not otherwise specified ',\n",
       "  32: 'Ovary ',\n",
       "  33: 'Other female genital system ',\n",
       "  34: 'Prostate ',\n",
       "  35: 'Testis ',\n",
       "  36: 'Penis ',\n",
       "  37: 'Other male genital organs ',\n",
       "  38: 'Urinary bladder (including in situ) ',\n",
       "  39: 'Kidney and renal pelvis ',\n",
       "  40: 'Ureter ',\n",
       "  41: 'Other urinary organs ',\n",
       "  42: 'Eye and orbit ',\n",
       "  43: 'Brain ',\n",
       "  44: 'Cranial nerves and other nervous system ',\n",
       "  45: 'Thyroid ',\n",
       "  46: 'Other endocrine ',\n",
       "  47: 'Hodgkin lymphoma ',\n",
       "  48: 'Non-Hodgkin lymphoma',\n",
       "  49: 'Myeloma ',\n",
       "  50: 'Acute lymphocytic leukemia ',\n",
       "  51: 'Chronic lymphocytic leukemia ',\n",
       "  52: 'Acute myeloid leukemia ',\n",
       "  53: 'Chronic myeloid leukemia ',\n",
       "  54: 'Other leukemia',\n",
       "  55: 'Other, ill-defined and unknown sites',\n",
       "  56: 'Mesothelioma ',\n",
       "  57: 'Kaposi sarcoma '},\n",
       " 'PREVALENCE_DURATION': {'2': '2-year duration',\n",
       "  '5': '5-year duration',\n",
       "  '10': '10-year duration',\n",
       "  '20': '20-year duration'},\n",
       " 'CHARACTERISTICS': {'T': 'Total number of cancer cases',\n",
       "  'P': 'Cancer prevalence proportion',\n",
       "  'L': 'Low 95% confidence interval, cancer prevalence',\n",
       "  'H': 'High 95% confidence interval, cancer prevalence'}}"
      ]
     },
     "execution_count": 33,
     "metadata": {},
     "output_type": "execute_result"
    }
   ],
   "source": [
    "MasterDictInverse"
   ]
  },
  {
   "cell_type": "code",
   "execution_count": 45,
   "metadata": {},
   "outputs": [],
   "source": [
    "file = open(\"MasterDictInverse.pickle\",'wb')\n",
    "pkl.dump(MasterDictInverse,file)\n",
    "file.close()"
   ]
  },
  {
   "cell_type": "code",
   "execution_count": 31,
   "metadata": {},
   "outputs": [],
   "source": [
    "df.to_csv(\"Cancer_Data_PreProcessed_v2.csv\")"
   ]
  },
  {
   "cell_type": "code",
   "execution_count": 46,
   "metadata": {},
   "outputs": [],
   "source": [
    "file = open(\"MasterDict.pickle\",'wb')\n",
    "pkl.dump(MasterDict,file)\n",
    "file.close()"
   ]
  },
  {
   "cell_type": "code",
   "execution_count": 32,
   "metadata": {},
   "outputs": [],
   "source": [
    "import zipfile\n",
    "zipfile.ZipFile(\"../data/Cancer_Data_PreProcessed_v2.zip\",'w').write(\"Cancer_Data_PreProcessed_v2.csv\")"
   ]
  },
  {
   "cell_type": "code",
   "execution_count": 30,
   "metadata": {},
   "outputs": [
    {
     "data": {
      "text/plain": [
       "'/home/siro/ML/Dash/DeepRegina/Canada_Cancer_Data/notebooks'"
      ]
     },
     "execution_count": 30,
     "metadata": {},
     "output_type": "execute_result"
    }
   ],
   "source": [
    "pwd"
   ]
  },
  {
   "cell_type": "code",
   "execution_count": 44,
   "metadata": {},
   "outputs": [
    {
     "data": {
      "text/plain": [
       "{'T': 'Total number of cancer cases', 'P': 'Cancer prevalence proportion'}"
      ]
     },
     "execution_count": 44,
     "metadata": {},
     "output_type": "execute_result"
    }
   ],
   "source": [
    "MasterDictInverse['CHARACTERISTICS']"
   ]
  },
  {
   "cell_type": "code",
   "execution_count": null,
   "metadata": {},
   "outputs": [],
   "source": []
  }
 ],
 "metadata": {
  "kernelspec": {
   "display_name": "Python 3",
   "language": "python",
   "name": "python3"
  },
  "language_info": {
   "codemirror_mode": {
    "name": "ipython",
    "version": 3
   },
   "file_extension": ".py",
   "mimetype": "text/x-python",
   "name": "python",
   "nbconvert_exporter": "python",
   "pygments_lexer": "ipython3",
   "version": "3.7.5"
  }
 },
 "nbformat": 4,
 "nbformat_minor": 4
}
